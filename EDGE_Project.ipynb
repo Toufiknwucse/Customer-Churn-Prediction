{
  "nbformat": 4,
  "nbformat_minor": 0,
  "metadata": {
    "colab": {
      "provenance": []
    },
    "kernelspec": {
      "name": "python3",
      "display_name": "Python 3"
    },
    "language_info": {
      "name": "python"
    }
  },
  "cells": [
    {
      "cell_type": "code",
      "source": [
        "import pandas as pd\n",
        "from sklearn.model_selection import train_test_split\n",
        "from sklearn.linear_model import LogisticRegression\n",
        "from sklearn.metrics import accuracy_score, classification_report, roc_auc_score\n",
        "\n",
        "# Load Dataset\n",
        "try:\n",
        "    data = pd.read_csv('/content/Customer-Churn.csv')  # Adjust path if needed\n",
        "    print(\"Dataset loaded successfully!\")\n",
        "except FileNotFoundError:\n",
        "    print(\"Error: Dataset file not found. Please check the file path.\")\n",
        "    exit()\n",
        "\n",
        "# Handle Missing Values\n",
        "# Replace numerical missing values with median\n",
        "num_cols = data.select_dtypes(include=['float64', 'int64']).columns\n",
        "data[num_cols] = data[num_cols].fillna(data[num_cols].median())\n",
        "\n",
        "# Replace categorical missing values with mode\n",
        "cat_cols = data.select_dtypes(include=['object']).columns\n",
        "data[cat_cols] = data[cat_cols].fillna(data[cat_cols].mode().iloc[0])\n",
        "\n",
        "# Feature Engineering: Create 'TotalCharges' as a new feature\n",
        "if 'MonthlyCharges' in data.columns and 'tenure' in data.columns:\n",
        "    data['TotalCharges'] = data['MonthlyCharges'] * data['tenure']\n",
        "else:\n",
        "    print(\"Warning: Columns 'MonthlyCharges' or 'tenure' not found. Skipping 'TotalCharges' calculation.\")\n",
        "\n",
        "# Ensure 'Churn' is binary (convert 'Yes'/'No' to 1/0)\n",
        "if 'Churn' in data.columns:\n",
        "    if data['Churn'].dtype == 'object':\n",
        "        data['Churn'] = data['Churn'].map({'Yes': 1, 'No': 0})\n",
        "    elif not data['Churn'].isin([0, 1]).all():\n",
        "        print(\"Error: 'Churn' column contains invalid values.\")\n",
        "        exit()\n",
        "else:\n",
        "    print(\"Error: 'Churn' column not found.\")\n",
        "    exit()\n",
        "\n",
        "# Encode Categorical Variables\n",
        "data = pd.get_dummies(data, drop_first=True)\n",
        "\n",
        "# Split Data into Features (X) and Target (y)\n",
        "X = data.drop('Churn', axis=1)\n",
        "y = data['Churn']\n",
        "\n",
        "# Split Data into Training and Testing Sets\n",
        "X_train, X_test, y_train, y_test = train_test_split(X, y, test_size=0.2, random_state=42)\n",
        "\n",
        "# Train Logistic Regression Model\n",
        "try:\n",
        "    model = LogisticRegression(max_iter=1000, random_state=42)  # Increase iterations to avoid convergence issues\n",
        "    model.fit(X_train, y_train)\n",
        "except Exception as e:\n",
        "    print(f\"Error during model training: {e}\")\n",
        "    exit()\n",
        "\n",
        "# Predict on Test Data\n",
        "try:\n",
        "    y_pred = model.predict(X_test)\n",
        "    y_prob = model.predict_proba(X_test)[:, 1]\n",
        "except Exception as e:\n",
        "    print(f\"Error during prediction: {e}\")\n",
        "    exit()\n",
        "\n",
        "# Evaluate the Model\n",
        "try:\n",
        "    print(\"Accuracy:\", accuracy_score(y_test, y_pred))\n",
        "    print(\"Classification Report:\\n\", classification_report(y_test, y_pred))\n",
        "    print(\"ROC-AUC Score:\", roc_auc_score(y_test, y_prob))\n",
        "except Exception as e:\n",
        "    print(f\"Error during evaluation: {e}\")\n",
        "    exit()\n"
      ],
      "metadata": {
        "colab": {
          "base_uri": "https://localhost:8080/"
        },
        "id": "fSoxaiMjw4ka",
        "outputId": "973e1ee7-4e60-4b3b-9cd9-455eb30b4fee"
      },
      "execution_count": null,
      "outputs": [
        {
          "output_type": "stream",
          "name": "stdout",
          "text": [
            "Dataset loaded successfully!\n"
          ]
        },
        {
          "output_type": "stream",
          "name": "stderr",
          "text": [
            "/usr/local/lib/python3.10/dist-packages/sklearn/linear_model/_logistic.py:469: ConvergenceWarning: lbfgs failed to converge (status=1):\n",
            "STOP: TOTAL NO. of ITERATIONS REACHED LIMIT.\n",
            "\n",
            "Increase the number of iterations (max_iter) or scale the data as shown in:\n",
            "    https://scikit-learn.org/stable/modules/preprocessing.html\n",
            "Please also refer to the documentation for alternative solver options:\n",
            "    https://scikit-learn.org/stable/modules/linear_model.html#logistic-regression\n",
            "  n_iter_i = _check_optimize_result(\n"
          ]
        },
        {
          "output_type": "stream",
          "name": "stdout",
          "text": [
            "Accuracy: 0.8112136266855926\n",
            "Classification Report:\n",
            "               precision    recall  f1-score   support\n",
            "\n",
            "           0       0.86      0.89      0.87      1036\n",
            "           1       0.66      0.59      0.62       373\n",
            "\n",
            "    accuracy                           0.81      1409\n",
            "   macro avg       0.76      0.74      0.75      1409\n",
            "weighted avg       0.81      0.81      0.81      1409\n",
            "\n",
            "ROC-AUC Score: 0.8598872234931216\n"
          ]
        }
      ]
    },
    {
      "cell_type": "code",
      "source": [
        "print(\"Accuracy:\", accuracy_score(y_test, y_pred))\n",
        "print(\"Classification Report:\\n\", classification_report(y_test, y_pred))\n",
        "print(\"ROC-AUC Score:\", roc_auc_score(y_test, model.predict_proba(X_test)[:, 1]))\n"
      ],
      "metadata": {
        "colab": {
          "base_uri": "https://localhost:8080/"
        },
        "id": "tooQSaklzHo4",
        "outputId": "5977a682-b122-4ba1-99be-0840d0a52c9a"
      },
      "execution_count": null,
      "outputs": [
        {
          "output_type": "stream",
          "name": "stdout",
          "text": [
            "Accuracy: 0.8112136266855926\n",
            "Classification Report:\n",
            "               precision    recall  f1-score   support\n",
            "\n",
            "           0       0.86      0.89      0.87      1036\n",
            "           1       0.66      0.59      0.62       373\n",
            "\n",
            "    accuracy                           0.81      1409\n",
            "   macro avg       0.76      0.74      0.75      1409\n",
            "weighted avg       0.81      0.81      0.81      1409\n",
            "\n",
            "ROC-AUC Score: 0.8598872234931216\n"
          ]
        }
      ]
    },
    {
      "cell_type": "code",
      "source": [
        "y_pred = model.predict(X_test)\n",
        "print(\"Predictions on test set:\\n\", y_pred[:10])  # Show first 10 predictions"
      ],
      "metadata": {
        "colab": {
          "base_uri": "https://localhost:8080/"
        },
        "id": "_Mb-nmp6zMkZ",
        "outputId": "2c36272d-f013-483b-a813-b548df3e8492"
      },
      "execution_count": null,
      "outputs": [
        {
          "output_type": "stream",
          "name": "stdout",
          "text": [
            "Predictions on test set:\n",
            " [1 0 0 1 0 0 0 0 0 0]\n"
          ]
        }
      ]
    },
    {
      "cell_type": "code",
      "source": [
        "try:\n",
        "    model = LogisticRegression(max_iter=1000, random_state=42)\n",
        "    model.fit(X_train, y_train)\n",
        "    print(\"Model trained successfully!\")\n",
        "except Exception as e:\n",
        "    print(f\"Error during model training: {e}\")\n",
        "    exit()\n"
      ],
      "metadata": {
        "colab": {
          "base_uri": "https://localhost:8080/"
        },
        "id": "uK0vdtYpzSim",
        "outputId": "7af295c7-e4c5-42d9-8c6d-362c830ac827"
      },
      "execution_count": null,
      "outputs": [
        {
          "output_type": "stream",
          "name": "stdout",
          "text": [
            "Model trained successfully!\n"
          ]
        },
        {
          "output_type": "stream",
          "name": "stderr",
          "text": [
            "/usr/local/lib/python3.10/dist-packages/sklearn/linear_model/_logistic.py:469: ConvergenceWarning: lbfgs failed to converge (status=1):\n",
            "STOP: TOTAL NO. of ITERATIONS REACHED LIMIT.\n",
            "\n",
            "Increase the number of iterations (max_iter) or scale the data as shown in:\n",
            "    https://scikit-learn.org/stable/modules/preprocessing.html\n",
            "Please also refer to the documentation for alternative solver options:\n",
            "    https://scikit-learn.org/stable/modules/linear_model.html#logistic-regression\n",
            "  n_iter_i = _check_optimize_result(\n"
          ]
        }
      ]
    }
  ]
}