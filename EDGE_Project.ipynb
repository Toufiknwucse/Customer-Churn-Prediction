import pandas as pd
from sklearn.model_selection import train_test_split
from sklearn.linear_model import LogisticRegression
from sklearn.metrics import accuracy_score, classification_report, roc_auc_score

# Load Dataset
try:
    data = pd.read_csv('/content/Customer-Churn.csv')  # Adjust path if needed
    print("Dataset loaded successfully!")
except FileNotFoundError:
    print("Error: Dataset file not found. Please check the file path.")
    exit()

# Handle Missing Values
# Replace numerical missing values with median
num_cols = data.select_dtypes(include=['float64', 'int64']).columns
data[num_cols] = data[num_cols].fillna(data[num_cols].median())

# Replace categorical missing values with mode
cat_cols = data.select_dtypes(include=['object']).columns
data[cat_cols] = data[cat_cols].fillna(data[cat_cols].mode().iloc[0])

# Feature Engineering: Create 'TotalCharges' as a new feature
if 'MonthlyCharges' in data.columns and 'tenure' in data.columns:
    data['TotalCharges'] = data['MonthlyCharges'] * data['tenure']
else:
    print("Warning: Columns 'MonthlyCharges' or 'tenure' not found. Skipping 'TotalCharges' calculation.")

# Ensure 'Churn' is binary (convert 'Yes'/'No' to 1/0)
if 'Churn' in data.columns:
    if data['Churn'].dtype == 'object':
        data['Churn'] = data['Churn'].map({'Yes': 1, 'No': 0})
    elif not data['Churn'].isin([0, 1]).all():
        print("Error: 'Churn' column contains invalid values.")
        exit()
else:
    print("Error: 'Churn' column not found.")
    exit()

# Encode Categorical Variables
data = pd.get_dummies(data, drop_first=True)

# Split Data into Features (X) and Target (y)
X = data.drop('Churn', axis=1)
y = data['Churn']

# Split Data into Training and Testing Sets
X_train, X_test, y_train, y_test = train_test_split(X, y, test_size=0.2, random_state=42)

# Train Logistic Regression Model
try:
    model = LogisticRegression(max_iter=1000, random_state=42)  # Increase iterations to avoid convergence issues
    model.fit(X_train, y_train)
except Exception as e:
    print(f"Error during model training: {e}")
    exit()

# Predict on Test Data
try:
    y_pred = model.predict(X_test)
    y_prob = model.predict_proba(X_test)[:, 1]
except Exception as e:
    print(f"Error during prediction: {e}")
    exit()

# Evaluate the Model
try:
    print("Accuracy:", accuracy_score(y_test, y_pred))
    print("Classification Report:\n", classification_report(y_test, y_pred))
    print("ROC-AUC Score:", roc_auc_score(y_test, y_prob))
except Exception as e:
    print(f"Error during evaluation: {e}")
    exit()
